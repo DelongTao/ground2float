{
 "cells": [
  {
   "cell_type": "code",
   "execution_count": 17,
   "metadata": {},
   "outputs": [],
   "source": [
    "#!/usr/bin/env python\n",
    "import os\n",
    "import sys\n",
    "import h5py\n",
    "from glob import glob\n",
    "import numpy as np\n",
    "import matplotlib.pyplot as plt\n",
    "import scipy.signal\n",
    "import pyproj\n",
    "from datetime import datetime\n",
    "from osgeo import gdal, gdalconst, osr\n",
    "from utils import interp2d\n",
    "import pandas as pd\n",
    "import geopandas as gpd\n",
    "\n",
    "from osgeo import gdal, gdalconst, osr\n",
    "import matplotlib.pyplot as plt\n",
    "import numpy as np\n",
    "\n",
    "\n",
    "#data_dir='ATL06/Byrd_glacier_rel001/'\n",
    "\n",
    "lon_lat=pyproj.Proj(init='epsg:4326')\n",
    "polar_stereo=pyproj.Proj(init='epsg:3031')\n",
    "\n",
    "module_path = os.path.abspath(os.path.join('..'))\n",
    "if module_path not in sys.path:\n",
    "    sys.path.append(module_path)\n",
    "\n",
    "\n",
    "# make sure we're dealing with the most recent version of any code we're using\n",
    "#%load_ext autoreload\n",
    "#%autoreload 2\n",
    "\n",
    "\n",
    "def ATL06_to_dict(filename, dataset_dict):\n",
    "    \"\"\"\n",
    "        Read selected datasets from an ATL06 file\n",
    "\n",
    "        Input arguments:\n",
    "            filename: ATl06 file to read\n",
    "            dataset_dict: A dictinary describing the fields to be read\n",
    "                    keys give the group names to be read, \n",
    "                    entries are lists of datasets within the groups\n",
    "        Output argument:\n",
    "            D6: dictionary containing ATL06 data.  Each dataset in \n",
    "                dataset_dict has its own entry in D6.  Each dataset \n",
    "                in D6 contains a list of numpy arrays containing the \n",
    "                data\n",
    "    \"\"\"\n",
    "    \n",
    "    D6=[]\n",
    "    pairs=[1, 2, 3]\n",
    "    beams=['l','r']\n",
    "    gps_epoch = datetime(1980, 1, 6, 0, 0, 0)\n",
    "    gps_epoch_ts = gps_epoch.timestamp()\n",
    "    # open the HDF5 file\n",
    "    with h5py.File(filename) as h5f:\n",
    "        # loop over beam pairs\n",
    "        file_epoch_time = np.array(h5f['ancillary_data']['atlas_sdp_gps_epoch']) + gps_epoch_ts\n",
    "        for pair in pairs:\n",
    "            # loop over beams\n",
    "            for beam_ind, beam in enumerate(beams):\n",
    "                # check if a beam exists, if not, skip it\n",
    "                if '/gt%d%s/land_ice_segments' % (pair, beam) not in h5f:\n",
    "                    continue\n",
    "                # loop over the groups in the dataset dictionary\n",
    "                temp={}\n",
    "                for group in dataset_dict.keys():\n",
    "                    for dataset in dataset_dict[group]:\n",
    "                        DS='/gt%d%s/%s/%s' % (pair, beam, group, dataset)\n",
    "                        # since a dataset may not exist in a file, we're going to try to read it, and if it doesn't work, we'll move on to the next:\n",
    "                        try:\n",
    "                            temp[dataset]=np.array(h5f[DS])\n",
    "                            if dataset == \"delta_time\":\n",
    "                                temp[dataset] = temp[dataset] + file_epoch_time\n",
    "                            # some parameters have a _FillValue attribute.  If it exists, use it to identify bad values, and set them to np.NaN\n",
    "                            if '_FillValue' in h5f[DS].attrs:\n",
    "                                fill_value=h5f[DS].attrs['_FillValue']\n",
    "                                bad = temp[dataset] == fill_value\n",
    "                                temp[dataset] = np.float64(temp[dataset])\n",
    "                                temp[dataset][temp[dataset]==fill_value]=np.NaN\n",
    "                        except KeyError as e:\n",
    "                            pass\n",
    "                if len(temp) > 0:\n",
    "                    # it's sometimes convenient to have the beam and the pair as part of the output data structure: This is how we put them there.\n",
    "                    temp['pair']=np.zeros_like(temp['h_li'])+pair\n",
    "                    temp['beam']=np.zeros_like(temp['h_li'])+beam_ind\n",
    "                    temp['filename']=filename\n",
    "                    D6.append(temp)\n",
    "    return D6"
   ]
  },
  {
   "cell_type": "code",
   "execution_count": 18,
   "metadata": {},
   "outputs": [],
   "source": [
    "def get_velocity(D6):\n",
    "    psx,psy = pyproj.transform(lon_lat,polar_stereo,D6['longitude'],D6['latitude'])\n",
    "    vel_is2 = interp2d(vels_xI, vels_yI, vels_array, psx, psy, order=1)\n",
    "    return vel_is2\n",
    "\n",
    "def get_rema_elev(D6):\n",
    "    psx,psy = pyproj.transform(lon_lat,polar_stereo,D6['longitude'],D6['latitude'])\n",
    "    rema_is2 = interp2d(rema_xI, rema_yI, rema_array, psx, psy, order=1)\n",
    "    return rema_is2\n",
    "  \n",
    "# this thang don't work, don't use it    \n",
    "def load_tif(tif):\n",
    "    dataset = gdal.Open(tif, gdal.GA_ReadOnly)\n",
    "    band = dataset.GetRasterBand(1)\n",
    "    array = band.ReadAsArray()\n",
    "    proj=dataset.GetProjection()\n",
    "    GT=dataset.GetGeoTransform()\n",
    "    ii=np.array([0, band.XSize-1])+0.5\n",
    "    jj=np.array([0,band.YSize])+0.5\n",
    "    x=GT[0]+GT[1]*ii\n",
    "    y=GT[0]+GT[1]*jj\n",
    "    dx=GT[1]\n",
    "    dy=(GT[5]*-1)\n",
    "    xi=np.arange(x.min(),x.max()+dx,dx)\n",
    "    yi=np.arange(y.min(),y.max()+dy,dy)\n",
    "    xI, yI = np.meshgrid(xi, yi)\n",
    "    return xI,yI,np.flipud(array) \n",
    "\n",
    "def tifread(ifile):\n",
    "    file = gdal.Open(ifile, gdal.GA_ReadOnly)\n",
    "    metaData = file.GetMetadata()\n",
    "    projection = file.GetProjection()\n",
    "    src = osr.SpatialReference()\n",
    "    src.ImportFromWkt(projection)\n",
    "    proj = src.ExportToWkt()\n",
    "\n",
    "    Nx = file.RasterXSize\n",
    "    Ny = file.RasterYSize\n",
    "\n",
    "    trans = file.GetGeoTransform()\n",
    "\n",
    "    dx = trans[1]\n",
    "    dy = trans[5]\n",
    "\n",
    "    Xp = np.arange(Nx)\n",
    "    Yp = np.arange(Ny)\n",
    "\n",
    "    (Xp, Yp) = np.meshgrid(Xp, Yp)\n",
    "\n",
    "    X = trans[0] + (Xp + 0.5) * trans[1] + (Yp + 0.5) * trans[2]\n",
    "    Y = trans[3] + (Xp + 0.5) * trans[4] + (Yp + 0.5) * trans[5]\n",
    "\n",
    "    band = file.GetRasterBand(1)\n",
    "    Z = band.ReadAsArray()\n",
    "    dx = np.abs(dx)\n",
    "    dy = np.abs(dy)\n",
    "    return X, Y, Z"
   ]
  },
  {
   "cell_type": "code",
   "execution_count": 21,
   "metadata": {},
   "outputs": [
    {
     "name": "stdout",
     "output_type": "stream",
     "text": [
      "2018-12-08 07:30:29.663674\n"
     ]
    }
   ],
   "source": [
    "if __name__ == \"__main__\":\n",
    "    \n",
    "    os.system('aws --no-sign-request s3 sync s3://pangeo-data-upload-oregon/icesat2/ground2float/ ./data')\n",
    "    os.system('echo $PATH')\n",
    "        \n",
    "    lineno=898\n",
    "    fn = \"/home/jovyan/ground2float/data/ATL06/ATL06_20181208072425_10790110_001_01.h5\" # file name for the line\n",
    "    dataset_dict={'land_ice_segments':['h_li', 'delta_time','longitude','latitude'], 'land_ice_segments/ground_track':['x_atc']}\n",
    "    # read ATL06 into a dictionary (the ATL06 file has the same name as the ATL03 file, except for the product name)\n",
    "    \n",
    "    D6_list=ATL06_to_dict(fn, dataset_dict)\n",
    "\n",
    "    # pick out gt1r:\n",
    "    D6 = D6_list[1]\n",
    "    print(datetime.utcfromtimestamp(D6['delta_time'][0]))\n",
    "    \n",
    "    # load in velocity and subsample\n",
    "    vels_xI,vels_yI,vels_array=tifread('./data/vx.tif')\n",
    "    vels = get_velocity(D6)\n",
    "    \n",
    "    # load in rema and subsample\n",
    "    #rema_xI,rema_yI,rema_array=tifread('./data/REMA_1km_dem_filled.tif')\n",
    "    rema_xI,rema_yI,rema_array=tifread('./data/26_15_8m_dem.tif')\n",
    "    rema_elev = get_rema_elev(D6)\n",
    "    \n",
    "    # sub-sample IS2 points from grounding zone polygons\n",
    "    !unzip -n -d for_s3 02_rgi60_WesternCanadaUS.zip\n",
    "    gl_fn = './data/GL_VARIABILITY.shp'\n",
    "    gl_gdf = gpd.read_file(gl_fn)\n",
    "    gl_gdf = gl_gdf.set_index('RGIId')\n",
    "    \n",
    "    \n",
    "    \n",
    "    \n",
    "    \n",
    "    \n",
    "    \n",
    "    "
   ]
  },
  {
   "cell_type": "code",
   "execution_count": 22,
   "metadata": {},
   "outputs": [
    {
     "data": {
      "application/vnd.jupyter.widget-view+json": {
       "model_id": "",
       "version_major": 2,
       "version_minor": 0
      },
      "text/plain": [
       "FigureCanvasNbAgg()"
      ]
     },
     "metadata": {},
     "output_type": "display_data"
    },
    {
     "data": {
      "text/plain": [
       "Text(0, 0.5, 'h, m')"
      ]
     },
     "execution_count": 22,
     "metadata": {},
     "output_type": "execute_result"
    }
   ],
   "source": [
    "%matplotlib widget\n",
    "f1,ax = plt.subplots(num=1,figsize=(6,4))\n",
    "ax.plot(D6['x_atc'], D6['h_li'],'r.', markersize=2, label='ATL06')\n",
    "ax.plot(D6['x_atc'], rema_elev ,'b.', markersize=2, label='REMA')\n",
    "#ax.plot(D6['x_atc'], vels ,'g.', markersize=2, label='Velocity')\n",
    "lgd = ax.legend(loc=3,frameon=False)\n",
    "ax.set_ylim([-100,2000])\n",
    "ax.set_xlabel('x_atc, m')\n",
    "ax.set_ylabel('h, m')\n",
    "#plt.savefig('thw0.png')"
   ]
  },
  {
   "cell_type": "code",
   "execution_count": 23,
   "metadata": {},
   "outputs": [
    {
     "data": {
      "application/vnd.jupyter.widget-view+json": {
       "model_id": "1593d836243248e4aa9c1fcf89c6067c",
       "version_major": 2,
       "version_minor": 0
      },
      "text/plain": [
       "FigureCanvasNbAgg()"
      ]
     },
     "metadata": {},
     "output_type": "display_data"
    },
    {
     "data": {
      "text/plain": [
       "Text(0, 0.5, 'h, m')"
      ]
     },
     "execution_count": 23,
     "metadata": {},
     "output_type": "execute_result"
    }
   ],
   "source": [
    "%matplotlib widget\n",
    "f1,ax = plt.subplots(num=1,figsize=(6,4))\n",
    "ax.plot(D6['x_atc'], D6['h_li']-rema_elev,'r.', markersize=2, label='Difference')\n",
    "#ax.plot(D6['x_atc'], vels ,'g.', markersize=2, label='Velocity')\n",
    "lgd = ax.legend(loc=3,frameon=False)\n",
    "ax.set_ylim([-100,2000])\n",
    "ax.set_xlabel('x_atc, m')\n",
    "ax.set_ylabel('h, m')\n",
    "#plt.savefig('thw0.png')"
   ]
  },
  {
   "cell_type": "code",
   "execution_count": null,
   "metadata": {},
   "outputs": [],
   "source": []
  },
  {
   "cell_type": "code",
   "execution_count": 3,
   "metadata": {},
   "outputs": [
    {
     "ename": "NameError",
     "evalue": "name 'plt' is not defined",
     "output_type": "error",
     "traceback": [
      "\u001b[0;31m---------------------------------------------------------------------------\u001b[0m",
      "\u001b[0;31mNameError\u001b[0m                                 Traceback (most recent call last)",
      "\u001b[0;32m<ipython-input-3-a77574e33c5f>\u001b[0m in \u001b[0;36m<module>\u001b[0;34m\u001b[0m\n\u001b[0;32m----> 1\u001b[0;31m \u001b[0mplt\u001b[0m\u001b[0;34m.\u001b[0m\u001b[0mpcolormesh\u001b[0m\u001b[0;34m(\u001b[0m\u001b[0mrema_xI\u001b[0m\u001b[0;34m,\u001b[0m\u001b[0mrema_yI\u001b[0m\u001b[0;34m,\u001b[0m\u001b[0mrema_array\u001b[0m\u001b[0;34m)\u001b[0m\u001b[0;34m\u001b[0m\u001b[0;34m\u001b[0m\u001b[0m\n\u001b[0m\u001b[1;32m      2\u001b[0m \u001b[0mpsx\u001b[0m\u001b[0;34m,\u001b[0m\u001b[0mpsy\u001b[0m \u001b[0;34m=\u001b[0m \u001b[0mpyproj\u001b[0m\u001b[0;34m.\u001b[0m\u001b[0mtransform\u001b[0m\u001b[0;34m(\u001b[0m\u001b[0mlon_lat\u001b[0m\u001b[0;34m,\u001b[0m\u001b[0mpolar_stereo\u001b[0m\u001b[0;34m,\u001b[0m\u001b[0mD6\u001b[0m\u001b[0;34m[\u001b[0m\u001b[0;34m'longitude'\u001b[0m\u001b[0;34m]\u001b[0m\u001b[0;34m,\u001b[0m\u001b[0mD6\u001b[0m\u001b[0;34m[\u001b[0m\u001b[0;34m'latitude'\u001b[0m\u001b[0;34m]\u001b[0m\u001b[0;34m)\u001b[0m\u001b[0;34m\u001b[0m\u001b[0;34m\u001b[0m\u001b[0m\n\u001b[1;32m      3\u001b[0m \u001b[0mplt\u001b[0m\u001b[0;34m.\u001b[0m\u001b[0mplot\u001b[0m\u001b[0;34m(\u001b[0m\u001b[0mD6\u001b[0m\u001b[0;34m[\u001b[0m\u001b[0;34m'longitude'\u001b[0m\u001b[0;34m]\u001b[0m\u001b[0;34m,\u001b[0m\u001b[0mD6\u001b[0m\u001b[0;34m[\u001b[0m\u001b[0;34m'latitude'\u001b[0m\u001b[0;34m]\u001b[0m\u001b[0;34m,\u001b[0m\u001b[0;34m'k.'\u001b[0m\u001b[0;34m,\u001b[0m \u001b[0mmarkersize\u001b[0m\u001b[0;34m=\u001b[0m\u001b[0;36m2\u001b[0m\u001b[0;34m,\u001b[0m \u001b[0mlabel\u001b[0m\u001b[0;34m=\u001b[0m\u001b[0;34m'ATL06'\u001b[0m\u001b[0;34m)\u001b[0m\u001b[0;34m\u001b[0m\u001b[0;34m\u001b[0m\u001b[0m\n",
      "\u001b[0;31mNameError\u001b[0m: name 'plt' is not defined"
     ]
    }
   ],
   "source": [
    "plt.pcolormesh(rema_xI,rema_yI,rema_array)\n",
    "psx,psy = pyproj.transform(lon_lat,polar_stereo,D6['longitude'],D6['latitude'])\n",
    "plt.plot(D6['longitude'],D6['latitude'],'k.', markersize=2, label='ATL06')"
   ]
  },
  {
   "cell_type": "code",
   "execution_count": null,
   "metadata": {},
   "outputs": [],
   "source": []
  },
  {
   "cell_type": "code",
   "execution_count": null,
   "metadata": {},
   "outputs": [],
   "source": []
  },
  {
   "cell_type": "code",
   "execution_count": null,
   "metadata": {},
   "outputs": [],
   "source": []
  },
  {
   "cell_type": "code",
   "execution_count": null,
   "metadata": {},
   "outputs": [],
   "source": []
  }
 ],
 "metadata": {
  "kernelspec": {
   "display_name": "Python 3",
   "language": "python",
   "name": "python3"
  },
  "language_info": {
   "codemirror_mode": {
    "name": "ipython",
    "version": 3
   },
   "file_extension": ".py",
   "mimetype": "text/x-python",
   "name": "python",
   "nbconvert_exporter": "python",
   "pygments_lexer": "ipython3",
   "version": "3.6.7"
  }
 },
 "nbformat": 4,
 "nbformat_minor": 2
}
